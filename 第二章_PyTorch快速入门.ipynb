{
  "nbformat": 4,
  "nbformat_minor": 0,
  "metadata": {
    "colab": {
      "provenance": [],
      "toc_visible": true,
      "authorship_tag": "ABX9TyPiR3KTFtC0oCY6LP730XjM",
      "include_colab_link": true
    },
    "kernelspec": {
      "name": "python3",
      "display_name": "Python 3"
    },
    "language_info": {
      "name": "python"
    }
  },
  "cells": [
    {
      "cell_type": "markdown",
      "metadata": {
        "id": "view-in-github",
        "colab_type": "text"
      },
      "source": [
        "<a href=\"https://colab.research.google.com/github/q10l01p/deep-learning/blob/main/%E7%AC%AC%E4%BA%8C%E7%AB%A0_PyTorch%E5%BF%AB%E9%80%9F%E5%85%A5%E9%97%A8.ipynb\" target=\"_parent\"><img src=\"https://colab.research.google.com/assets/colab-badge.svg\" alt=\"Open In Colab\"/></a>"
      ]
    },
    {
      "cell_type": "markdown",
      "source": [
        "# 2.1 PyTorch安装"
      ],
      "metadata": {
        "id": "_250-Nm4tGnU"
      }
    },
    {
      "cell_type": "markdown",
      "source": [
        "# 2.2 张量"
      ],
      "metadata": {
        "id": "bFK9pF6mtL0f"
      }
    },
    {
      "cell_type": "markdown",
      "source": [
        "\n",
        "*   标量：一个单独的数\n",
        "*   向量：一行或一列的数组\n",
        "*   矩阵：一个二维数组\n",
        "*   张量：数组维数超过二维\n",
        "\n",
        "在PyTorch中，张量可以是标量，向量，矩阵"
      ],
      "metadata": {
        "id": "5AgeKQs_tk2s"
      }
    },
    {
      "cell_type": "markdown",
      "source": [
        "## 2.2.1 张量数据类型"
      ],
      "metadata": {
        "id": "HugQBRSAuOQN"
      }
    },
    {
      "cell_type": "markdown",
      "source": [
        "torch默认的数据类型是32位浮点型，可以通过```torch.set_default_tensor_type()```函数进行修改，但只支持浮点型。\n",
        "\n"
      ],
      "metadata": {
        "id": "u4Ty1JRFxXmB"
      }
    },
    {
      "cell_type": "code",
      "source": [
        "import torch\n",
        "torch.tensor([1.2, 3.4]).dtype\n",
        "# torch.tensor（）生成一个张量 .dtype获取张量数据类型"
      ],
      "metadata": {
        "colab": {
          "base_uri": "https://localhost:8080/"
        },
        "id": "LHW0yrLpuNYk",
        "outputId": "4a00465c-ad48-4c80-e7fa-dcb93f2e5129"
      },
      "execution_count": null,
      "outputs": [
        {
          "output_type": "execute_result",
          "data": {
            "text/plain": [
              "torch.float32"
            ]
          },
          "metadata": {},
          "execution_count": 1
        }
      ]
    },
    {
      "cell_type": "code",
      "source": [
        "# torch.set_default_tensor_type（）修改张量默认数据类型\n",
        "torch.set_default_tensor_type(torch.DoubleTensor)\n",
        "torch.tensor([1.2, 3.4]).dtype"
      ],
      "metadata": {
        "colab": {
          "base_uri": "https://localhost:8080/"
        },
        "id": "iN_4UYg4wFif",
        "outputId": "5aa1a9b8-7a0c-4114-fbca-08abde33376c"
      },
      "execution_count": 2,
      "outputs": [
        {
          "output_type": "execute_result",
          "data": {
            "text/plain": [
              "torch.float64"
            ]
          },
          "metadata": {},
          "execution_count": 2
        }
      ]
    },
    {
      "cell_type": "code",
      "source": [
        "#其他数据转换方式\n",
        "a = torch.tensor([1.2, 3.4])\n",
        "print(\"a.dtype:\",a.dtype)\n",
        "print(\"a.long()方法:\",a.long().dtype)\n",
        "print(\"a.int()方法:\",a.int().dtype)\n",
        "print(\"a.float()方法:\",a.float().dtype)"
      ],
      "metadata": {
        "colab": {
          "base_uri": "https://localhost:8080/"
        },
        "id": "9m7clVd-wfcf",
        "outputId": "35f30bc2-a653-4e19-920a-978fe849aa56"
      },
      "execution_count": 4,
      "outputs": [
        {
          "output_type": "stream",
          "name": "stdout",
          "text": [
            "a.dtype: torch.float64\n",
            "a.long()方法: torch.int64\n",
            "a.int()方法: torch.int32\n",
            "a.float()方法: torch.float32\n"
          ]
        }
      ]
    },
    {
      "cell_type": "code",
      "source": [
        "torch.set_default_tensor_type(torch.FloatTensor)\n",
        "torch.get_default_dtype()\n",
        "# torch.get_default_dtype()读取张量数据类型"
      ],
      "metadata": {
        "colab": {
          "base_uri": "https://localhost:8080/"
        },
        "id": "OQDgWjtxxFZa",
        "outputId": "7b3b71db-f61c-427a-95cb-ec8c801b7152"
      },
      "execution_count": 6,
      "outputs": [
        {
          "output_type": "execute_result",
          "data": {
            "text/plain": [
              "torch.float32"
            ]
          },
          "metadata": {},
          "execution_count": 6
        }
      ]
    },
    {
      "cell_type": "markdown",
      "source": [
        "总结：\n",
        "1.   torch默认数据类型为torch.float32\n",
        "2.   ```torch.set_default_tensor_type()```函数可以修改默认数据类型，但只支持浮点型。\n",
        "3.   ```.dtype```，```torch.get_default_dtype()```函数可以读取张量数据类型\n",
        "4.   ```.long()```,```.int()```,```.float()```也可以转换数据类型"
      ],
      "metadata": {
        "id": "4bFfxnBeymIS"
      }
    },
    {
      "cell_type": "markdown",
      "source": [
        "## 2.2.2 张量的生成"
      ],
      "metadata": {
        "id": "xoP_mUSdz1gP"
      }
    },
    {
      "cell_type": "markdown",
      "source": [
        "### ```torch.tensor()``` 函数生成张量\n",
        "\n"
      ],
      "metadata": {
        "id": "3PF2_BUy0J6e"
      }
    },
    {
      "cell_type": "code",
      "source": [
        "A = torch.tensor([[1.0,1.0],[2,2]])\n",
        "A"
      ],
      "metadata": {
        "colab": {
          "base_uri": "https://localhost:8080/"
        },
        "id": "SektTiGLz6Q5",
        "outputId": "c1dcede0-1948-42b7-cda1-b166b52b599d"
      },
      "execution_count": 8,
      "outputs": [
        {
          "output_type": "execute_result",
          "data": {
            "text/plain": [
              "tensor([[1., 1.],\n",
              "        [2., 2.]])"
            ]
          },
          "metadata": {},
          "execution_count": 8
        }
      ]
    },
    {
      "cell_type": "markdown",
      "source": [
        "```.shape```查看张量的维度\n",
        "\n",
        "```.size()```查看张量的现状大小\n",
        "\n",
        "```.numel()```查看张量包含的数量"
      ],
      "metadata": {
        "id": "i7zcs7tw0wAd"
      }
    },
    {
      "cell_type": "code",
      "source": [
        "print(A.shape)\n",
        "print(A.size())\n",
        "print(A.numel())"
      ],
      "metadata": {
        "colab": {
          "base_uri": "https://localhost:8080/"
        },
        "id": "KDBuz-KT0bvi",
        "outputId": "14afb251-c889-4dd2-abb8-472075813de7"
      },
      "execution_count": 10,
      "outputs": [
        {
          "output_type": "stream",
          "name": "stdout",
          "text": [
            "torch.Size([2, 2])\n",
            "torch.Size([2, 2])\n",
            "4\n"
          ]
        }
      ]
    },
    {
      "cell_type": "markdown",
      "source": [
        "同时可以使用参数dtype来指定张量的数据类型，使用传输requires_grad来指定张量是否需要计算梯度。\n",
        "\n",
        "只有计算了梯度的张量，才能在深度学习优化时根据梯度大小进行更新。"
      ],
      "metadata": {
        "id": "vBZld6Rg1RKK"
      }
    },
    {
      "cell_type": "code",
      "source": [
        "B = torch.tensor((1,2,3), dtype = torch.float32,requires_grad = True)\n",
        "B"
      ],
      "metadata": {
        "colab": {
          "base_uri": "https://localhost:8080/"
        },
        "id": "l1eMeoTC1RZ5",
        "outputId": "66bdfee7-ed36-46d5-baa6-2655e4198c8d"
      },
      "execution_count": 14,
      "outputs": [
        {
          "output_type": "execute_result",
          "data": {
            "text/plain": [
              "tensor([1., 2., 3.], requires_grad=True)"
            ]
          },
          "metadata": {},
          "execution_count": 14
        }
      ]
    },
    {
      "cell_type": "markdown",
      "source": [
        "只有浮点型才能计算梯度"
      ],
      "metadata": {
        "id": "VBrMD2K44JrN"
      }
    },
    {
      "cell_type": "code",
      "source": [
        "# 计算sum（B**2）的梯度\n",
        "Y = B.pow(2).sum()\n",
        "Y.backward()     # Y.backward()函数是计算梯度的函数\n",
        "B.grad        # B.grad存储了Y相对于B的梯度"
      ],
      "metadata": {
        "colab": {
          "base_uri": "https://localhost:8080/"
        },
        "id": "Qx4cmMTc226F",
        "outputId": "bffaf04a-4244-40aa-d22b-45f5d2397637"
      },
      "execution_count": 15,
      "outputs": [
        {
          "output_type": "execute_result",
          "data": {
            "text/plain": [
              "tensor([2., 4., 6.])"
            ]
          },
          "metadata": {},
          "execution_count": 15
        }
      ]
    }
  ]
}