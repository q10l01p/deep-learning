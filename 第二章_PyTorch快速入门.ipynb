{
  "nbformat": 4,
  "nbformat_minor": 0,
  "metadata": {
    "colab": {
      "provenance": [],
      "toc_visible": true,
      "authorship_tag": "ABX9TyPDcxKwDhTIO4OtSZ02hXc4",
      "include_colab_link": true
    },
    "kernelspec": {
      "name": "python3",
      "display_name": "Python 3"
    },
    "language_info": {
      "name": "python"
    }
  },
  "cells": [
    {
      "cell_type": "markdown",
      "metadata": {
        "id": "view-in-github",
        "colab_type": "text"
      },
      "source": [
        "<a href=\"https://colab.research.google.com/github/q10l01p/deep-learning/blob/main/%E7%AC%AC%E4%BA%8C%E7%AB%A0_PyTorch%E5%BF%AB%E9%80%9F%E5%85%A5%E9%97%A8.ipynb\" target=\"_parent\"><img src=\"https://colab.research.google.com/assets/colab-badge.svg\" alt=\"Open In Colab\"/></a>"
      ]
    },
    {
      "cell_type": "markdown",
      "source": [
        "# 2.1 PyTorch安装"
      ],
      "metadata": {
        "id": "_250-Nm4tGnU"
      }
    },
    {
      "cell_type": "markdown",
      "source": [
        "# 2.2 张量"
      ],
      "metadata": {
        "id": "bFK9pF6mtL0f"
      }
    },
    {
      "cell_type": "markdown",
      "source": [
        "\n",
        "*   标量：一个单独的数\n",
        "*   向量：一行或一列的数组\n",
        "*   矩阵：一个二维数组\n",
        "*   张量：数组维数超过二维\n",
        "\n",
        "在PyTorch中，张量可以是标量，向量，矩阵"
      ],
      "metadata": {
        "id": "5AgeKQs_tk2s"
      }
    },
    {
      "cell_type": "markdown",
      "source": [
        "## 2.2.1 张量数据类型"
      ],
      "metadata": {
        "id": "HugQBRSAuOQN"
      }
    },
    {
      "cell_type": "markdown",
      "source": [
        "torch默认的数据类型是32位浮点型，可以通过```torch.set_default_tensor_type()```函数进行修改，但只支持浮点型。\n",
        "\n"
      ],
      "metadata": {
        "id": "u4Ty1JRFxXmB"
      }
    },
    {
      "cell_type": "code",
      "source": [
        "import torch\n",
        "torch.tensor([1.2, 3.4]).dtype\n",
        "# torch.tensor（）生成一个张量 .dtype获取张量数据类型"
      ],
      "metadata": {
        "colab": {
          "base_uri": "https://localhost:8080/"
        },
        "id": "LHW0yrLpuNYk",
        "outputId": "f6eb2af5-e948-44b9-d373-3e5378c662f9"
      },
      "execution_count": 2,
      "outputs": [
        {
          "output_type": "execute_result",
          "data": {
            "text/plain": [
              "torch.float32"
            ]
          },
          "metadata": {},
          "execution_count": 2
        }
      ]
    },
    {
      "cell_type": "code",
      "source": [
        "# torch.set_default_tensor_type（）修改张量默认数据类型\n",
        "torch.set_default_tensor_type(torch.DoubleTensor)\n",
        "torch.tensor([1.2, 3.4]).dtype"
      ],
      "metadata": {
        "colab": {
          "base_uri": "https://localhost:8080/"
        },
        "id": "iN_4UYg4wFif",
        "outputId": "8fcf056f-35ba-4bf5-d047-27d17336a8cd"
      },
      "execution_count": null,
      "outputs": [
        {
          "output_type": "execute_result",
          "data": {
            "text/plain": [
              "torch.float64"
            ]
          },
          "metadata": {},
          "execution_count": 17
        }
      ]
    },
    {
      "cell_type": "code",
      "source": [
        "#其他数据转换方式\n",
        "a = torch.tensor([1.2, 3.4])\n",
        "print(\"a.dtype:\",a.dtype)\n",
        "print(\"a.long()方法:\",a.long().dtype)\n",
        "print(\"a.int()方法:\",a.int().dtype)\n",
        "print(\"a.float()方法:\",a.float().dtype)"
      ],
      "metadata": {
        "colab": {
          "base_uri": "https://localhost:8080/"
        },
        "id": "9m7clVd-wfcf",
        "outputId": "0f840c5c-ddae-4f3e-8ef6-4cfda157a555"
      },
      "execution_count": null,
      "outputs": [
        {
          "output_type": "stream",
          "name": "stdout",
          "text": [
            "a.dtype: torch.float64\n",
            "a.long()方法: torch.int64\n",
            "a.int()方法: torch.int32\n",
            "a.float()方法: torch.float32\n"
          ]
        }
      ]
    },
    {
      "cell_type": "code",
      "source": [
        "torch.set_default_tensor_type(torch.FloatTensor)\n",
        "torch.get_default_dtype()\n",
        "# torch.get_default_dtype()读取张量数据类型"
      ],
      "metadata": {
        "colab": {
          "base_uri": "https://localhost:8080/"
        },
        "id": "OQDgWjtxxFZa",
        "outputId": "a40757d4-3533-454c-c2b6-80bcf1c9b8f2"
      },
      "execution_count": null,
      "outputs": [
        {
          "output_type": "execute_result",
          "data": {
            "text/plain": [
              "torch.float32"
            ]
          },
          "metadata": {},
          "execution_count": 19
        }
      ]
    },
    {
      "cell_type": "markdown",
      "source": [
        "总结：\n",
        "1.   torch默认数据类型为torch.float32\n",
        "2.   ```torch.set_default_tensor_type()```函数可以修改默认数据类型，但只支持浮点型。\n",
        "3.   ```.dtype```，```torch.get_default_dtype()```函数可以读取张量数据类型\n",
        "4.   ```.long()```,```.int()```,```.float()```也可以转换数据类型"
      ],
      "metadata": {
        "id": "4bFfxnBeymIS"
      }
    },
    {
      "cell_type": "markdown",
      "source": [
        "## 2.2.2 张量的生成"
      ],
      "metadata": {
        "id": "xoP_mUSdz1gP"
      }
    },
    {
      "cell_type": "markdown",
      "source": [
        "### ```torch.tensor()``` 函数生成张量\n",
        "\n"
      ],
      "metadata": {
        "id": "3PF2_BUy0J6e"
      }
    },
    {
      "cell_type": "code",
      "source": [
        "A = torch.tensor([[1.0,1.0],[2,2]])\n",
        "A"
      ],
      "metadata": {
        "colab": {
          "base_uri": "https://localhost:8080/"
        },
        "id": "SektTiGLz6Q5",
        "outputId": "cbfb4a1d-0c95-4832-f257-a4426db30713"
      },
      "execution_count": null,
      "outputs": [
        {
          "output_type": "execute_result",
          "data": {
            "text/plain": [
              "tensor([[1., 1.],\n",
              "        [2., 2.]])"
            ]
          },
          "metadata": {},
          "execution_count": 20
        }
      ]
    },
    {
      "cell_type": "markdown",
      "source": [
        "```.shape```查看张量的维度\n",
        "\n",
        "```.size()```查看张量的现状大小\n",
        "\n",
        "```.numel()```查看张量包含的数量"
      ],
      "metadata": {
        "id": "i7zcs7tw0wAd"
      }
    },
    {
      "cell_type": "code",
      "source": [
        "print(A.shape)\n",
        "print(A.size())\n",
        "print(A.numel())"
      ],
      "metadata": {
        "colab": {
          "base_uri": "https://localhost:8080/"
        },
        "id": "KDBuz-KT0bvi",
        "outputId": "3428bcae-09f7-4e4d-b528-b97fb0df8e64"
      },
      "execution_count": null,
      "outputs": [
        {
          "output_type": "stream",
          "name": "stdout",
          "text": [
            "torch.Size([2, 2])\n",
            "torch.Size([2, 2])\n",
            "4\n"
          ]
        }
      ]
    },
    {
      "cell_type": "markdown",
      "source": [
        "同时可以使用参数dtype来指定张量的数据类型，使用传输requires_grad来指定张量是否需要计算梯度。\n",
        "\n",
        "只有计算了梯度的张量，才能在深度学习优化时根据梯度大小进行更新。"
      ],
      "metadata": {
        "id": "vBZld6Rg1RKK"
      }
    },
    {
      "cell_type": "code",
      "source": [
        "B = torch.tensor((1,2,3), dtype = torch.float32,requires_grad = True)\n",
        "B"
      ],
      "metadata": {
        "colab": {
          "base_uri": "https://localhost:8080/"
        },
        "id": "l1eMeoTC1RZ5",
        "outputId": "d35421ef-d940-4f34-fd9a-706abdbaab8e"
      },
      "execution_count": null,
      "outputs": [
        {
          "output_type": "execute_result",
          "data": {
            "text/plain": [
              "tensor([1., 2., 3.], requires_grad=True)"
            ]
          },
          "metadata": {},
          "execution_count": 22
        }
      ]
    },
    {
      "cell_type": "markdown",
      "source": [
        "只有浮点型才能计算梯度"
      ],
      "metadata": {
        "id": "VBrMD2K44JrN"
      }
    },
    {
      "cell_type": "code",
      "source": [
        "# 计算sum（B**2）的梯度\n",
        "Y = B.pow(2).sum()\n",
        "Y.backward()     # Y.backward()函数是计算梯度的函数\n",
        "B.grad        # B.grad存储了Y相对于B的梯度"
      ],
      "metadata": {
        "colab": {
          "base_uri": "https://localhost:8080/"
        },
        "id": "Qx4cmMTc226F",
        "outputId": "1fb18dc6-ca90-438a-cd7d-3b873132187f"
      },
      "execution_count": null,
      "outputs": [
        {
          "output_type": "execute_result",
          "data": {
            "text/plain": [
              "tensor([2., 4., 6.])"
            ]
          },
          "metadata": {},
          "execution_count": 23
        }
      ]
    },
    {
      "cell_type": "markdown",
      "source": [
        "### torch.Tensor()函数"
      ],
      "metadata": {
        "id": "RusCP0GN9sxN"
      }
    },
    {
      "cell_type": "markdown",
      "source": [
        "```torch.Tensor()```函数可以生成张量，而且可以生成指定形状的张量。"
      ],
      "metadata": {
        "id": "-SD93vxsBCN-"
      }
    },
    {
      "cell_type": "code",
      "source": [
        "C = torch.Tensor([1,2,3,4])\n",
        "C"
      ],
      "metadata": {
        "colab": {
          "base_uri": "https://localhost:8080/"
        },
        "id": "t2AteKav92Vj",
        "outputId": "91ee7ebc-b421-48fe-c70c-f96f369c2ee2"
      },
      "execution_count": 3,
      "outputs": [
        {
          "output_type": "execute_result",
          "data": {
            "text/plain": [
              "tensor([1., 2., 3., 4.])"
            ]
          },
          "metadata": {},
          "execution_count": 3
        }
      ]
    },
    {
      "cell_type": "code",
      "source": [
        "D = torch.Tensor(2,3)\n",
        "D"
      ],
      "metadata": {
        "colab": {
          "base_uri": "https://localhost:8080/"
        },
        "id": "IURdvL9X-kRO",
        "outputId": "f988882a-1186-4199-e667-6620ed300424"
      },
      "execution_count": 4,
      "outputs": [
        {
          "output_type": "execute_result",
          "data": {
            "text/plain": [
              "tensor([[6.3030e+30, 4.5703e-41, 8.6300e-35],\n",
              "        [0.0000e+00, 8.9683e-44, 0.0000e+00]])"
            ]
          },
          "metadata": {},
          "execution_count": 4
        }
      ]
    },
    {
      "cell_type": "markdown",
      "source": [
        "```torch.***_like()```可以生成与指定张量维度相同，性质相似的张量。"
      ],
      "metadata": {
        "id": "QHMQzWD8BVXw"
      }
    },
    {
      "cell_type": "code",
      "source": [
        "print(torch.ones_like(D)) # ones 全为1\n",
        "print(torch.zeros_like(D)) \n",
        "print(torch.rand_like(D))\n",
        "print(torch.empty_like(D))"
      ],
      "metadata": {
        "colab": {
          "base_uri": "https://localhost:8080/"
        },
        "id": "0FiljJVr-9S4",
        "outputId": "ad08937a-a5b9-423f-bf9b-a16b90e85972"
      },
      "execution_count": 13,
      "outputs": [
        {
          "output_type": "stream",
          "name": "stdout",
          "text": [
            "tensor([[1., 1., 1.],\n",
            "        [1., 1., 1.]])\n",
            "tensor([[0., 0., 0.],\n",
            "        [0., 0., 0.]])\n",
            "tensor([[0.0723, 0.8451, 0.1794],\n",
            "        [0.3301, 0.0828, 0.1425]])\n",
            "tensor([[2.3964e-34, 0.0000e+00, 6.3030e+30],\n",
            "        [4.5703e-41, 4.4842e-44, 0.0000e+00]])\n"
          ]
        }
      ]
    },
    {
      "cell_type": "markdown",
      "source": [
        "```.new_tensor()```函数可以创建新的张量。"
      ],
      "metadata": {
        "id": "pSGnbl5BBsxO"
      }
    },
    {
      "cell_type": "code",
      "source": [
        "# 创建一个类型相似但尺寸不同的张量\n",
        "E = [[1,2],[3,4]]\n",
        "E = D.new_tensor(E)\n",
        "print(\"D:\",D)\n",
        "print(\"D.dtype:\",D.dtype)\n",
        "print(\"E:\",E)\n",
        "print(\"E.dtype:\",E.dtype)"
      ],
      "metadata": {
        "colab": {
          "base_uri": "https://localhost:8080/"
        },
        "id": "InQ7WWiK_PiZ",
        "outputId": "0669df88-4662-484c-da4a-4dd67ba72697"
      },
      "execution_count": 14,
      "outputs": [
        {
          "output_type": "stream",
          "name": "stdout",
          "text": [
            "D: tensor([[6.3030e+30, 4.5703e-41, 8.6300e-35],\n",
            "        [0.0000e+00, 8.9683e-44, 0.0000e+00]])\n",
            "D.dtype: torch.float32\n",
            "E: tensor([[1., 2.],\n",
            "        [3., 4.]])\n",
            "E.dtype: torch.float32\n"
          ]
        }
      ]
    },
    {
      "cell_type": "markdown",
      "source": [
        "* ```D.new_full((3,3), fill_value = 1)``` 生成3*3使用1填充的张量\n",
        "* ```D.new_zeros((3,3))```          生成3*3使用0填充的张量\n",
        "* ```D.new_empty((3,3))```          生成3*3使用空张量\n",
        "* ```D.new_ones((3,3))```          生成3*3使用1填充的张量"
      ],
      "metadata": {
        "id": "fh2c_xWvCNKo"
      }
    },
    {
      "cell_type": "markdown",
      "source": [
        "### 张量和NumPy数据转换"
      ],
      "metadata": {
        "id": "KR0GS-wzD5ng"
      }
    },
    {
      "cell_type": "markdown",
      "source": [
        "NumPy数组默认的是64位浮点型"
      ],
      "metadata": {
        "id": "xB9kXSM6F9tt"
      }
    },
    {
      "cell_type": "code",
      "source": [
        "# 利用NumPy数组生成张量\n",
        "import numpy as np\n",
        "F = np.ones((3,3))\n",
        "# 使用torch.as_tensor()函数\n",
        "Ftensor = torch.as_tensor(F)\n",
        "print(Ftensor)\n",
        "# 使用torch.from_numpy()函数\n",
        "Ftensor = torch.from_numpy(F)\n",
        "print(Ftensor)"
      ],
      "metadata": {
        "colab": {
          "base_uri": "https://localhost:8080/"
        },
        "id": "_pC_3Zd_ESry",
        "outputId": "f901958a-4751-4616-a421-08f8fdd550af"
      },
      "execution_count": 16,
      "outputs": [
        {
          "output_type": "stream",
          "name": "stdout",
          "text": [
            "tensor([[1., 1., 1.],\n",
            "        [1., 1., 1.],\n",
            "        [1., 1., 1.]], dtype=torch.float64)\n",
            "tensor([[1., 1., 1.],\n",
            "        [1., 1., 1.],\n",
            "        [1., 1., 1.]], dtype=torch.float64)\n"
          ]
        }
      ]
    },
    {
      "cell_type": "markdown",
      "source": [
        "```torch.as_tensor()```,```torch.from_numpy()```不改变数据类型\n",
        "\n"
      ],
      "metadata": {
        "id": "xIZAkfxiGbsz"
      }
    },
    {
      "cell_type": "code",
      "source": [
        "# 张量转换为NumPy数组\n",
        "Ftensor.numpy()"
      ],
      "metadata": {
        "colab": {
          "base_uri": "https://localhost:8080/"
        },
        "id": "lE7CxQDGGQ6g",
        "outputId": "28ef0adc-de53-4cb0-9dfb-2d084b0a5642"
      },
      "execution_count": 17,
      "outputs": [
        {
          "output_type": "execute_result",
          "data": {
            "text/plain": [
              "array([[1., 1., 1.],\n",
              "       [1., 1., 1.],\n",
              "       [1., 1., 1.]])"
            ]
          },
          "metadata": {},
          "execution_count": 17
        }
      ]
    },
    {
      "cell_type": "markdown",
      "source": [
        "### 随机数生成张量"
      ],
      "metadata": {
        "id": "P7VN5ZaHGujL"
      }
    },
    {
      "cell_type": "markdown",
      "source": [
        "在PyTorch中可以通过相关随机数来生成张量，并且指定生成随机数的分布函数等。\n",
        "\n",
        "在生成随机数之前可以通过```torch.manual_seed()```函数，指定随机数种子，用于保证随机数可以重复出现\n",
        "\n",
        "随机数种子：可以通过改变随机数种子改变随机数"
      ],
      "metadata": {
        "id": "RhOWK5pJIimd"
      }
    },
    {
      "cell_type": "code",
      "source": [
        "torch.manual_seed(123)\n",
        "A = torch.normal(mean = 0.0,std = torch.tensor(1.0))\n",
        "A"
      ],
      "metadata": {
        "colab": {
          "base_uri": "https://localhost:8080/"
        },
        "id": "A1SvjWZtG5Xv",
        "outputId": "bc59e222-b23a-481f-ca7e-988a1bf2bd49"
      },
      "execution_count": 51,
      "outputs": [
        {
          "output_type": "execute_result",
          "data": {
            "text/plain": [
              "tensor(-0.1115)"
            ]
          },
          "metadata": {},
          "execution_count": 51
        }
      ]
    },
    {
      "cell_type": "markdown",
      "source": [
        "```torch.normal(mean = 0.0,std = torch.tensor(1.0))```函数中通过mean参数指定随机数的均值，通过std参数指定随机数的标准差\n",
        "\n",
        "如果mean参数和std参数只有一个值，则可生成一个随机数\n",
        "\n",
        "如果mean参数和std参数有多个值，则可生成多个随机数"
      ],
      "metadata": {
        "id": "LLJnaa64JrGb"
      }
    },
    {
      "cell_type": "code",
      "source": [
        "torch.manual_seed(123)\n",
        "A = torch.normal(mean = 0.0, std=torch.arange(1,5.0))\n",
        "A"
      ],
      "metadata": {
        "colab": {
          "base_uri": "https://localhost:8080/"
        },
        "id": "0_4MGe6CKLUg",
        "outputId": "f224e8bd-eb78-498e-93f2-3f5fa5cd21a3"
      },
      "execution_count": 29,
      "outputs": [
        {
          "output_type": "execute_result",
          "data": {
            "text/plain": [
              "tensor([-0.1115,  0.2407, -1.1089, -0.9617])"
            ]
          },
          "metadata": {},
          "execution_count": 29
        }
      ]
    },
    {
      "cell_type": "code",
      "source": [
        "torch.manual_seed(123)\n",
        "A = torch.normal(mean = torch.arange(1,5.0),std=torch.arange(1,5.0))\n",
        "A"
      ],
      "metadata": {
        "colab": {
          "base_uri": "https://localhost:8080/"
        },
        "id": "8HG7txCrLUSi",
        "outputId": "7ce54d2e-bcf1-4614-a05d-1171536b09a9"
      },
      "execution_count": 30,
      "outputs": [
        {
          "output_type": "execute_result",
          "data": {
            "text/plain": [
              "tensor([0.8885, 2.2407, 1.8911, 3.0383])"
            ]
          },
          "metadata": {},
          "execution_count": 30
        }
      ]
    },
    {
      "cell_type": "code",
      "source": [
        "torch.manual_seed(123)\n",
        "B = torch.rand(3,4)\n",
        "B"
      ],
      "metadata": {
        "colab": {
          "base_uri": "https://localhost:8080/"
        },
        "id": "1ZeSqWpzPqRC",
        "outputId": "d1184eef-16f7-439b-a0fb-c5b63ed3a1d8"
      },
      "execution_count": 32,
      "outputs": [
        {
          "output_type": "execute_result",
          "data": {
            "text/plain": [
              "tensor([[0.2961, 0.5166, 0.2517, 0.6886],\n",
              "        [0.0740, 0.8665, 0.1366, 0.1025],\n",
              "        [0.1841, 0.7264, 0.3153, 0.6871]])"
            ]
          },
          "metadata": {},
          "execution_count": 32
        }
      ]
    },
    {
      "cell_type": "code",
      "source": [
        "torch.manual_seed(123)\n",
        "C = torch.ones(2,3)\n",
        "D = torch.rand_like(C)\n",
        "D"
      ],
      "metadata": {
        "colab": {
          "base_uri": "https://localhost:8080/"
        },
        "id": "3wo6L_T3P754",
        "outputId": "570b2058-c4b2-4cac-f512-8da54a385dc7"
      },
      "execution_count": 33,
      "outputs": [
        {
          "output_type": "execute_result",
          "data": {
            "text/plain": [
              "tensor([[0.2961, 0.5166, 0.2517],\n",
              "        [0.6886, 0.0740, 0.8665]])"
            ]
          },
          "metadata": {},
          "execution_count": 33
        }
      ]
    },
    {
      "cell_type": "code",
      "source": [
        "print(torch.randn(3,3))\n",
        "print(torch.randn_like(C))"
      ],
      "metadata": {
        "colab": {
          "base_uri": "https://localhost:8080/"
        },
        "id": "F5bYKN7iQJcZ",
        "outputId": "618d86a1-af9b-4713-df84-f4e3cc54e162"
      },
      "execution_count": 34,
      "outputs": [
        {
          "output_type": "stream",
          "name": "stdout",
          "text": [
            "tensor([[ 0.9447,  0.6217, -1.3501],\n",
            "        [-0.1881, -2.3891, -0.4759],\n",
            "        [ 1.7603,  0.6547,  0.5490]])\n",
            "tensor([[ 0.3671,  0.1219,  0.6466],\n",
            "        [-1.4168,  0.8429, -0.6307]])\n"
          ]
        }
      ]
    },
    {
      "cell_type": "markdown",
      "source": [
        "```.randperm(n)```在0~n（包含0，不包含n）之间的整数进行随机排序后输出"
      ],
      "metadata": {
        "id": "2neTrsMRVZIp"
      }
    },
    {
      "cell_type": "code",
      "source": [
        "torch.manual_seed(123)\n",
        "torch.randperm(10)"
      ],
      "metadata": {
        "colab": {
          "base_uri": "https://localhost:8080/"
        },
        "id": "Ur7UhMrKQfTA",
        "outputId": "87b17e5b-089e-41e6-d6d0-4647b28555fa"
      },
      "execution_count": 35,
      "outputs": [
        {
          "output_type": "execute_result",
          "data": {
            "text/plain": [
              "tensor([2, 0, 8, 1, 3, 7, 4, 9, 5, 6])"
            ]
          },
          "metadata": {},
          "execution_count": 35
        }
      ]
    },
    {
      "cell_type": "markdown",
      "source": [
        "### 其他生成张量的函数"
      ],
      "metadata": {
        "id": "RqVhXzARVQvB"
      }
    },
    {
      "cell_type": "code",
      "source": [
        "torch.arange(start=0, end=10, step=2)\n",
        "#start指定开始 end指定结束 step指定步长"
      ],
      "metadata": {
        "colab": {
          "base_uri": "https://localhost:8080/"
        },
        "id": "U-3iRK9OQ0vt",
        "outputId": "d33f097d-92ba-42bd-9041-c9e440c4d2d0"
      },
      "execution_count": 36,
      "outputs": [
        {
          "output_type": "execute_result",
          "data": {
            "text/plain": [
              "tensor([0, 2, 4, 6, 8])"
            ]
          },
          "metadata": {},
          "execution_count": 36
        }
      ]
    },
    {
      "cell_type": "markdown",
      "source": [
        "```torch.linspace(start=0.1, end=10, steps=5)```在范围内生成固定数量的等间隔张量"
      ],
      "metadata": {
        "id": "lOERbgTMUV2c"
      }
    },
    {
      "cell_type": "code",
      "source": [
        "torch.linspace(start=0.1, end=10, steps=5)"
      ],
      "metadata": {
        "colab": {
          "base_uri": "https://localhost:8080/"
        },
        "id": "_awUVjVORN4z",
        "outputId": "0019eb4e-f21d-4f77-e543-7742ec013b4c"
      },
      "execution_count": 53,
      "outputs": [
        {
          "output_type": "execute_result",
          "data": {
            "text/plain": [
              "tensor([ 0.1000,  2.5750,  5.0500,  7.5250, 10.0000])"
            ]
          },
          "metadata": {},
          "execution_count": 53
        }
      ]
    },
    {
      "cell_type": "markdown",
      "source": [
        "```torch.logspace```生成以对数为间隔的张量。\n",
        "\n",
        "```torch.logspace(start=0.1, end=1, steps=5)``` = 10**```torch.linspace(start=0.1, end=10, steps=5)```"
      ],
      "metadata": {
        "id": "QPXVtc7nUquO"
      }
    },
    {
      "cell_type": "code",
      "source": [
        "torch.logspace(start=0.1, end=1, steps=5)"
      ],
      "metadata": {
        "colab": {
          "base_uri": "https://localhost:8080/"
        },
        "id": "jd02HymdUaz-",
        "outputId": "4d26b87d-eab9-4b9e-feac-c2111d3251fc"
      },
      "execution_count": 54,
      "outputs": [
        {
          "output_type": "execute_result",
          "data": {
            "text/plain": [
              "tensor([ 1.2589,  2.1135,  3.5481,  5.9566, 10.0000])"
            ]
          },
          "metadata": {},
          "execution_count": 54
        }
      ]
    },
    {
      "cell_type": "code",
      "source": [
        "print(torch.zeros(3,3))\n",
        "print(torch.ones(3,3))\n",
        "print(torch.eye(3))\n",
        "print(torch.empty(3,3))\n",
        "print(torch.full((3,3),fill_value = 0.25))"
      ],
      "metadata": {
        "colab": {
          "base_uri": "https://localhost:8080/"
        },
        "id": "wVyP7B5sWM7C",
        "outputId": "e0c3e950-c7e8-483a-a63a-a90d22b9c263"
      },
      "execution_count": 55,
      "outputs": [
        {
          "output_type": "stream",
          "name": "stdout",
          "text": [
            "tensor([[0., 0., 0.],\n",
            "        [0., 0., 0.],\n",
            "        [0., 0., 0.]])\n",
            "tensor([[1., 1., 1.],\n",
            "        [1., 1., 1.],\n",
            "        [1., 1., 1.]])\n",
            "tensor([[1., 0., 0.],\n",
            "        [0., 1., 0.],\n",
            "        [0., 0., 1.]])\n",
            "tensor([[2.3920e-34, 0.0000e+00, 0.0000e+00],\n",
            "        [0.0000e+00, 1.0000e+00, 0.0000e+00],\n",
            "        [0.0000e+00, 0.0000e+00, 1.1210e-43]])\n",
            "tensor([[0.2500, 0.2500, 0.2500],\n",
            "        [0.2500, 0.2500, 0.2500],\n",
            "        [0.2500, 0.2500, 0.2500]])\n"
          ]
        }
      ]
    },
    {
      "cell_type": "markdown",
      "source": [
        "## 2.2.3 张量操作"
      ],
      "metadata": {
        "id": "NSFXupF4WAly"
      }
    },
    {
      "cell_type": "code",
      "source": [],
      "metadata": {
        "id": "NowpBSMAWHuf"
      },
      "execution_count": null,
      "outputs": []
    }
  ]
}