{
  "nbformat": 4,
  "nbformat_minor": 0,
  "metadata": {
    "colab": {
      "provenance": [],
      "authorship_tag": "ABX9TyO1D4NbzqKKP3766C0CcFIH",
      "include_colab_link": true
    },
    "kernelspec": {
      "name": "python3",
      "display_name": "Python 3"
    },
    "language_info": {
      "name": "python"
    }
  },
  "cells": [
    {
      "cell_type": "markdown",
      "metadata": {
        "id": "view-in-github",
        "colab_type": "text"
      },
      "source": [
        "<a href=\"https://colab.research.google.com/github/q10l01p/deep-learning/blob/main/%E7%AC%AC%E4%BA%8C%E7%AB%A0_PyTorch%E5%BF%AB%E9%80%9F%E5%85%A5%E9%97%A8.ipynb\" target=\"_parent\"><img src=\"https://colab.research.google.com/assets/colab-badge.svg\" alt=\"Open In Colab\"/></a>"
      ]
    },
    {
      "cell_type": "markdown",
      "source": [
        "# 2.1 PyTorch安装"
      ],
      "metadata": {
        "id": "_250-Nm4tGnU"
      }
    },
    {
      "cell_type": "markdown",
      "source": [
        "# 2.2 张量"
      ],
      "metadata": {
        "id": "bFK9pF6mtL0f"
      }
    },
    {
      "cell_type": "markdown",
      "source": [
        "\n",
        "*   标量：一个单独的数\n",
        "*   向量：一行或一列的数组\n",
        "*   矩阵：一个二维数组\n",
        "*   张量：数组维数超过二维\n",
        "\n",
        "在PyTorch中，张量可以是标量，向量，矩阵"
      ],
      "metadata": {
        "id": "5AgeKQs_tk2s"
      }
    },
    {
      "cell_type": "markdown",
      "source": [
        "## 2.2.1 张量数据类型"
      ],
      "metadata": {
        "id": "HugQBRSAuOQN"
      }
    },
    {
      "cell_type": "code",
      "source": [
        "import torch\n",
        "torch.tensor([1.2, 3.4]).dtype"
      ],
      "metadata": {
        "colab": {
          "base_uri": "https://localhost:8080/"
        },
        "id": "LHW0yrLpuNYk",
        "outputId": "4a00465c-ad48-4c80-e7fa-dcb93f2e5129"
      },
      "execution_count": null,
      "outputs": [
        {
          "output_type": "execute_result",
          "data": {
            "text/plain": [
              "torch.float32"
            ]
          },
          "metadata": {},
          "execution_count": 1
        }
      ]
    }
  ]
}